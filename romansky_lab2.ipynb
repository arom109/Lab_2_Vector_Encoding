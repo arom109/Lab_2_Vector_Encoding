{
 "cells": [
  {
   "cell_type": "code",
   "execution_count": 49,
   "metadata": {},
   "outputs": [],
   "source": [
    "import geopandas as gpd\n",
    "import pandas as pd\n",
    "import fiona as fi\n",
    "import glob\n",
    "import rasterio\n",
    "from rasterstats import zonal_stats\n",
    "from shapely.geometry import Point, LineString, Polygon"
   ]
  },
  {
   "cell_type": "code",
   "execution_count": null,
   "metadata": {},
   "outputs": [],
   "source": []
  },
  {
   "cell_type": "code",
   "execution_count": 50,
   "metadata": {},
   "outputs": [
    {
     "data": {
      "text/plain": [
       "['C:\\\\Users\\\\arom\\\\Documents\\\\School\\\\Grad School\\\\Fall 2020\\\\Automation\\\\week3\\\\Lab2\\\\lab2_data\\\\data\\\\agriculture\\\\GLOBCOVER_2004_lab2.tif',\n",
       " 'C:\\\\Users\\\\arom\\\\Documents\\\\School\\\\Grad School\\\\Fall 2020\\\\Automation\\\\week3\\\\Lab2\\\\lab2_data\\\\data\\\\agriculture\\\\GLOBCOVER_2004_lab2.tif.vat.cpg',\n",
       " 'C:\\\\Users\\\\arom\\\\Documents\\\\School\\\\Grad School\\\\Fall 2020\\\\Automation\\\\week3\\\\Lab2\\\\lab2_data\\\\data\\\\agriculture\\\\GLOBCOVER_2004_lab2.tif.vat.dbf',\n",
       " 'C:\\\\Users\\\\arom\\\\Documents\\\\School\\\\Grad School\\\\Fall 2020\\\\Automation\\\\week3\\\\Lab2\\\\lab2_data\\\\data\\\\agriculture\\\\GLOBCOVER_2009_lab2.tif',\n",
       " 'C:\\\\Users\\\\arom\\\\Documents\\\\School\\\\Grad School\\\\Fall 2020\\\\Automation\\\\week3\\\\Lab2\\\\lab2_data\\\\data\\\\agriculture\\\\GLOBCOVER_2009_lab2.tif.aux.xml',\n",
       " 'C:\\\\Users\\\\arom\\\\Documents\\\\School\\\\Grad School\\\\Fall 2020\\\\Automation\\\\week3\\\\Lab2\\\\lab2_data\\\\data\\\\agriculture\\\\GLOBCOVER_2009_lab2.tif.vat.cpg',\n",
       " 'C:\\\\Users\\\\arom\\\\Documents\\\\School\\\\Grad School\\\\Fall 2020\\\\Automation\\\\week3\\\\Lab2\\\\lab2_data\\\\data\\\\agriculture\\\\GLOBCOVER_2009_lab2.tif.vat.dbf',\n",
       " 'C:\\\\Users\\\\arom\\\\Documents\\\\School\\\\Grad School\\\\Fall 2020\\\\Automation\\\\week3\\\\Lab2\\\\lab2_data\\\\data\\\\districts\\\\district01.txt',\n",
       " 'C:\\\\Users\\\\arom\\\\Documents\\\\School\\\\Grad School\\\\Fall 2020\\\\Automation\\\\week3\\\\Lab2\\\\lab2_data\\\\data\\\\districts\\\\district05.txt',\n",
       " 'C:\\\\Users\\\\arom\\\\Documents\\\\School\\\\Grad School\\\\Fall 2020\\\\Automation\\\\week3\\\\Lab2\\\\lab2_data\\\\data\\\\districts\\\\district06.txt']"
      ]
     },
     "execution_count": 50,
     "metadata": {},
     "output_type": "execute_result"
    }
   ],
   "source": [
    "#read files in data folder\n",
    "glob.glob(r'C:\\Users\\arom\\Documents\\School\\Grad School\\Fall 2020\\Automation\\week3\\Lab2\\lab2_data\\data\\*\\*')"
   ]
  },
  {
   "cell_type": "code",
   "execution_count": 51,
   "metadata": {},
   "outputs": [
    {
     "name": "stderr",
     "output_type": "stream",
     "text": [
      "C:\\Users\\arom\\anaconda3\\envs\\geog5092_37\\lib\\site-packages\\pyproj\\crs\\crs.py:53: FutureWarning: '+init=<authority>:<code>' syntax is deprecated. '<authority>:<code>' is the preferred initialization method. When making the change, be mindful of axis order changes: https://pyproj4.github.io/pyproj/stable/gotchas.html#axis-order-changes-in-proj-6\n",
      "  return _prepare_from_string(\" \".join(pjargs))\n"
     ]
    }
   ],
   "source": [
    "#create list of files\n",
    "file_names = [r'C:\\Users\\arom\\Documents\\School\\Grad School\\Fall 2020\\Automation\\week3\\Lab2\\lab2_data\\data\\districts\\district01.txt', r'C:\\Users\\arom\\Documents\\School\\Grad School\\Fall 2020\\Automation\\week3\\Lab2\\lab2_data\\data\\districts\\district05.txt', r'C:\\Users\\arom\\Documents\\School\\Grad School\\Fall 2020\\Automation\\week3\\Lab2\\lab2_data\\data\\districts\\district06.txt']\n",
    "#create empty dictionary\n",
    "dictionary = {'district': [], 'num_coords':[], 'geometry': []}\n",
    "#run for loop to read files in list, use the coordinates from each file to create a polygon\n",
    "#create variable that has the amount of coordinate pairs, use slicing to isolate each district name\n",
    "#append the empty dictionary with the output generated in the for loop\n",
    "for i in file_names:\n",
    "    x = pd.read_csv(i , delim_whitespace = True)\n",
    "    coords = list(zip(x['X'], x['Y']))\n",
    "    poly = Polygon(coords)\n",
    "    num_coords = len(coords)\n",
    "    district = i[-14: -4]\n",
    "    dictionary['district'].append(district)\n",
    "    dictionary['num_coords'].append(num_coords)\n",
    "    dictionary['geometry'].append(poly)\n",
    "\n",
    "#create geodataframe and project    \n",
    "districts_gdf = gpd.GeoDataFrame.from_dict(dictionary)\n",
    "districts_gdf.crs = {'init': 'epsg:4326'}\n",
    "\n",
    "#create shapefile\n",
    "districts_gdf.to_file(driver='ESRI Shapefile', filename ='districts_gdf.shp')"
   ]
  },
  {
   "cell_type": "code",
   "execution_count": 52,
   "metadata": {},
   "outputs": [
    {
     "data": {
      "text/plain": [
       "{'district': ['district01', 'district05', 'district06'],\n",
       " 'num_coords': [1847, 566, 1223],\n",
       " 'geometry': [<shapely.geometry.polygon.Polygon at 0x1b132b8c888>,\n",
       "  <shapely.geometry.polygon.Polygon at 0x1b132b900c8>,\n",
       "  <shapely.geometry.polygon.Polygon at 0x1b132ba6988>]}"
      ]
     },
     "execution_count": 52,
     "metadata": {},
     "output_type": "execute_result"
    }
   ],
   "source": [
    "dictionary"
   ]
  },
  {
   "cell_type": "code",
   "execution_count": 53,
   "metadata": {},
   "outputs": [],
   "source": [
    "#use zonal stats to obtain total pixel count and agricultural pixel count for 2004 and 2009\n",
    "zonal04 = zonal_stats(r\"C:\\Users\\arom\\Documents\\School\\Grad School\\Fall 2020\\Automation\\week3\\Lab2\\districts_gdf.shp\", r\"C:\\Users\\arom\\Documents\\School\\Grad School\\Fall 2020\\Automation\\week3\\Lab2\\lab2_data\\data\\agriculture\\GLOBCOVER_2004_lab2.tif\",\n",
    "            stats=\"count min mean max median\", categorical=True)\n",
    "zonal09 = zonal_stats(r\"C:\\Users\\arom\\Documents\\School\\Grad School\\Fall 2020\\Automation\\week3\\Lab2\\districts_gdf.shp\", r\"C:\\Users\\arom\\Documents\\School\\Grad School\\Fall 2020\\Automation\\week3\\Lab2\\lab2_data\\data\\agriculture\\GLOBCOVER_2009_lab2.tif\",\n",
    "            stats=\"count min mean max median\", categorical=True)\n"
   ]
  },
  {
   "cell_type": "code",
   "execution_count": 54,
   "metadata": {},
   "outputs": [
    {
     "data": {
      "text/plain": [
       "[{0: 53877,\n",
       "  1: 35922,\n",
       "  'min': 0.0,\n",
       "  'max': 1.0,\n",
       "  'mean': 0.40002672635552733,\n",
       "  'count': 89799,\n",
       "  'median': 0.0},\n",
       " {0: 11946,\n",
       "  1: 6639,\n",
       "  'min': 0.0,\n",
       "  'max': 1.0,\n",
       "  'mean': 0.35722356739305894,\n",
       "  'count': 18585,\n",
       "  'median': 0.0},\n",
       " {0: 46830,\n",
       "  1: 39629,\n",
       "  'min': 0.0,\n",
       "  'max': 1.0,\n",
       "  'mean': 0.45835598376108905,\n",
       "  'count': 86459,\n",
       "  'median': 0.0}]"
      ]
     },
     "execution_count": 54,
     "metadata": {},
     "output_type": "execute_result"
    }
   ],
   "source": [
    "zonal04"
   ]
  },
  {
   "cell_type": "code",
   "execution_count": 55,
   "metadata": {},
   "outputs": [
    {
     "data": {
      "text/plain": [
       "[{0: 40312,\n",
       "  1: 49487,\n",
       "  'min': 0.0,\n",
       "  'max': 1.0,\n",
       "  'mean': 0.5510863149923718,\n",
       "  'count': 89799,\n",
       "  'median': 1.0},\n",
       " {0: 12136,\n",
       "  1: 6449,\n",
       "  'min': 0.0,\n",
       "  'max': 1.0,\n",
       "  'mean': 0.34700026903416736,\n",
       "  'count': 18585,\n",
       "  'median': 0.0},\n",
       " {0: 47274,\n",
       "  1: 39185,\n",
       "  'min': 0.0,\n",
       "  'max': 1.0,\n",
       "  'mean': 0.453220601672469,\n",
       "  'count': 86459,\n",
       "  'median': 0.0}]"
      ]
     },
     "execution_count": 55,
     "metadata": {},
     "output_type": "execute_result"
    }
   ],
   "source": [
    "zonal09"
   ]
  },
  {
   "cell_type": "code",
   "execution_count": 56,
   "metadata": {},
   "outputs": [],
   "source": [
    "p_totals = [89799, 18585, 86459]\n",
    "p_ag04 = [35922, 6639, 39629] #agricultural pixels in 2004\n",
    "p_ag09 = [49487, 6449, 39185] #agricultural pixels in 2009"
   ]
  },
  {
   "cell_type": "code",
   "execution_count": 57,
   "metadata": {},
   "outputs": [],
   "source": [
    "#to get percentage of agricultural pixels, divide agricultural pixels by total pixels, then mulitply by 100\n",
    "percent_agriculture_04 = [x / y * 100 for x,y in zip(p_ag04, p_totals)]\n",
    "percent_agriculture_09 = [x / y * 100 for x,y in zip(p_ag09, p_totals)]\n"
   ]
  },
  {
   "cell_type": "code",
   "execution_count": 58,
   "metadata": {},
   "outputs": [
    {
     "data": {
      "text/plain": [
       "[40.002672635552734, 35.722356739305894, 45.835598376108905]"
      ]
     },
     "execution_count": 58,
     "metadata": {},
     "output_type": "execute_result"
    }
   ],
   "source": [
    "percent_agriculture_04"
   ]
  },
  {
   "cell_type": "code",
   "execution_count": 59,
   "metadata": {},
   "outputs": [
    {
     "data": {
      "text/plain": [
       "[55.108631499237184, 34.700026903416735, 45.3220601672469]"
      ]
     },
     "execution_count": 59,
     "metadata": {},
     "output_type": "execute_result"
    }
   ],
   "source": [
    "percent_agriculture_09"
   ]
  },
  {
   "cell_type": "code",
   "execution_count": 60,
   "metadata": {},
   "outputs": [
    {
     "name": "stdout",
     "output_type": "stream",
     "text": [
      "  District  2004%  2009%\n",
      "0       01  40.00  55.11\n",
      "1       05  35.72  34.70\n",
      "2       06  45.84  45.32\n"
     ]
    }
   ],
   "source": [
    "final = {'District':['01', '05', '06' ],'2004%':['40.00', '35.72', '45.84'],'2009%':['55.11', '34.70', '45.32']}\n",
    "final = pd.DataFrame(final)\n",
    "print(final)"
   ]
  },
  {
   "cell_type": "code",
   "execution_count": null,
   "metadata": {},
   "outputs": [],
   "source": []
  }
 ],
 "metadata": {
  "kernelspec": {
   "display_name": "Python 3",
   "language": "python",
   "name": "python3"
  },
  "language_info": {
   "codemirror_mode": {
    "name": "ipython",
    "version": 3
   },
   "file_extension": ".py",
   "mimetype": "text/x-python",
   "name": "python",
   "nbconvert_exporter": "python",
   "pygments_lexer": "ipython3",
   "version": "3.7.8"
  }
 },
 "nbformat": 4,
 "nbformat_minor": 4
}
